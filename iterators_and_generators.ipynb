{
 "cells": [
  {
   "cell_type": "code",
   "execution_count": null,
   "metadata": {},
   "outputs": [],
   "source": [
    "def gen_up(string):\n",
    "    for i in string:\n",
    "        yield i.upper()\n",
    "        \n",
    "for i in gen_up(\"hello world\"):\n",
    "    print(i)"
   ]
  },
  {
   "cell_type": "code",
   "execution_count": null,
   "metadata": {},
   "outputs": [],
   "source": [
    "g = [1, 3, 4]\n",
    "it = iter(g)\n",
    "print(next(it))"
   ]
  },
  {
   "cell_type": "code",
   "execution_count": null,
   "metadata": {},
   "outputs": [],
   "source": [
    "from random import random\n",
    "\n",
    "class MyIterator:\n",
    "    def __init__(self, k):\n",
    "        self.k = k\n",
    "        self.i = 0\n",
    "        \n",
    "    def __next__(self):\n",
    "        if self.i < self.k:\n",
    "            self.i += 1\n",
    "            return random()\n",
    "        else:\n",
    "            raise StopIteration\n",
    "\n",
    "x =  MyIterator(10)   \n",
    "\n",
    "for i in x:\n",
    "    print(i)"
   ]
  },
  {
   "cell_type": "code",
   "execution_count": null,
   "metadata": {},
   "outputs": [],
   "source": [
    "class Any:\n",
    "    def __init__(self, iterable):\n",
    "        self.iterable = iterable\n",
    "\n",
    "    def __iter__(self):\n",
    "        for i in self.iterable:\n",
    "            if i != 2:\n",
    "                yield i\n",
    "\n",
    "\n",
    "\n",
    "obj = Any([1, 2, 3])\n",
    "\n",
    "for i in obj:\n",
    "    print(i)\n"
   ]
  },
  {
   "cell_type": "code",
   "execution_count": null,
   "metadata": {},
   "outputs": [],
   "source": [
    "class Fibbonachi:\n",
    "    def __iter__(self):\n",
    "        self.cur_val = 0\n",
    "        self.next_val = 1\n",
    "        return self\n",
    "    \n",
    "    def __next__(self):\n",
    "        tmp = self.next_val\n",
    "        self.next_val += self.cur_val\n",
    "        self.cur_val = tmp\n",
    "        return tmp\n",
    "    \n",
    "h = Fibbonachi()\n",
    "    \n",
    "for i in h:\n",
    "    print(i)"
   ]
  },
  {
   "cell_type": "code",
   "execution_count": null,
   "metadata": {},
   "outputs": [],
   "source": [
    "class multifilter:\n",
    "    def judge_half(pos, neg):\n",
    "        return pos >= neg\n",
    "            \n",
    "    def judge_any(pos, neg):\n",
    "        return pos >= 1\n",
    "            \n",
    "    def judge_all(pos, neg):\n",
    "        return neg == 0\n",
    "            \n",
    "    def __init__(self, iterable, *funcs, judge=judge_any):\n",
    "        self.iterable = iterable\n",
    "        self.funcs = funcs\n",
    "        self.judge = judge\n",
    "        \n",
    "\n",
    "    def __iter__(self):\n",
    "        for i in self.iterable:\n",
    "            pos, neg = 0, 0\n",
    "            for f in self.funcs:\n",
    "                if f(i):\n",
    "                    pos += 1\n",
    "                else:\n",
    "                    neg += 1\n",
    "            if self.judge(pos, neg) is True:\n",
    "                yield i"
   ]
  },
  {
   "cell_type": "code",
   "execution_count": null,
   "metadata": {},
   "outputs": [],
   "source": [
    "class multifilter:\n",
    "    def judge_half(pos, neg):\n",
    "        return pos >= neg\n",
    "\n",
    "    def judge_any(pos, neg):\n",
    "        return pos > 0\n",
    "\n",
    "    def judge_all(pos, neg):\n",
    "        return neg == 0\n",
    "\n",
    "    def __init__(self, iterable, *funcs, judge=judge_any):\n",
    "        self.iterator = iter(iterable)\n",
    "        self.funcs = funcs\n",
    "        self.judge = judge\n",
    "\n",
    "    def __iter__(self):\n",
    "        return self\n",
    "\n",
    "    def __next__(self):\n",
    "        while (True):\n",
    "            elem = next(self.iterator)\n",
    "            pos, neg = 0, 0\n",
    "            for func in self.funcs:\n",
    "                if func(elem):\n",
    "                    pos += 1\n",
    "                else:\n",
    "                    neg += 1\n",
    "\n",
    "            if self.judge(pos, neg):\n",
    "                return elem\n",
    "\n",
    "a = [i for i in range(31)]\n",
    "\n",
    "print(list(multifilter(a, mul2, mul3, mul5))) \n"
   ]
  },
  {
   "cell_type": "code",
   "execution_count": null,
   "metadata": {},
   "outputs": [],
   "source": [
    "def primes():\n",
    "    prime = 1\n",
    "    while True:\n",
    "        c = 2\n",
    "        prime += 1\n",
    "        if prime == 2 or prime == 3:\n",
    "            yield prime\n",
    "        while c <= prime - 1:\n",
    "            if prime % c == 0:\n",
    "                break\n",
    "            else:\n",
    "                c += 1\n",
    "                if c == prime - 1:\n",
    "                    yield prime\n",
    "for i in primes():\n",
    "    print(i)"
   ]
  },
  {
   "cell_type": "code",
   "execution_count": null,
   "metadata": {},
   "outputs": [],
   "source": []
  }
 ],
 "metadata": {
  "kernelspec": {
   "display_name": "Python 3",
   "language": "python",
   "name": "python3"
  },
  "language_info": {
   "codemirror_mode": {
    "name": "ipython",
    "version": 3
   },
   "file_extension": ".py",
   "mimetype": "text/x-python",
   "name": "python",
   "nbconvert_exporter": "python",
   "pygments_lexer": "ipython3",
   "version": "3.7.4"
  }
 },
 "nbformat": 4,
 "nbformat_minor": 4
}

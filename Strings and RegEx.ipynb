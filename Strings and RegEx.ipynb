{
 "cells": [
  {
   "cell_type": "code",
   "execution_count": null,
   "metadata": {},
   "outputs": [],
   "source": [
    "import itertools"
   ]
  },
  {
   "cell_type": "code",
   "execution_count": null,
   "metadata": {},
   "outputs": [],
   "source": [
    "print(itertools.__doc__)"
   ]
  },
  {
   "cell_type": "code",
   "execution_count": null,
   "metadata": {},
   "outputs": [],
   "source": [
    "print(help(sorted))"
   ]
  },
  {
   "cell_type": "code",
   "execution_count": null,
   "metadata": {},
   "outputs": [],
   "source": [
    "print(help(str.find))"
   ]
  },
  {
   "cell_type": "code",
   "execution_count": null,
   "metadata": {},
   "outputs": [],
   "source": [
    "print(str.find.__doc__)"
   ]
  },
  {
   "cell_type": "code",
   "execution_count": null,
   "metadata": {},
   "outputs": [],
   "source": [
    "print(\"qwerfgtyhrtqwe\".rfind(\"qwe\"))\n",
    "print(\"qwerfgtyhrtqwe\".find(\"qwe\"))"
   ]
  },
  {
   "cell_type": "code",
   "execution_count": null,
   "metadata": {},
   "outputs": [],
   "source": [
    "s = \"1,2,3,4\"\n",
    "print(s.replace(\",\", \", \")) \n",
    "print(s)  # 1,2,3,4 because string is immutable"
   ]
  },
  {
   "cell_type": "code",
   "execution_count": null,
   "metadata": {},
   "outputs": [],
   "source": [
    "print(list.sort.__doc__)"
   ]
  },
  {
   "cell_type": "code",
   "execution_count": null,
   "metadata": {},
   "outputs": [],
   "source": [
    "def g(*nums):\n",
    "    print(type(nums))\n",
    "g(1, 2)"
   ]
  },
  {
   "cell_type": "code",
   "execution_count": null,
   "metadata": {},
   "outputs": [],
   "source": [
    "lst = [\n",
    "    [1, 2, 5],\n",
    "    [5, 7, 9]\n",
    "]\n",
    "\n",
    "for first, second, third in lst:\n",
    "    print(first, second, third)"
   ]
  },
  {
   "cell_type": "code",
   "execution_count": null,
   "metadata": {},
   "outputs": [],
   "source": [
    "cdp = 'SW1     Eth 0/0    140   S I   WS-C3750-  Eth 0/1'\n",
    "\n",
    "name, l_intf, *other, r_intf = cdp.split()\n",
    "\n",
    "print(other)"
   ]
  },
  {
   "cell_type": "code",
   "execution_count": null,
   "metadata": {},
   "outputs": [],
   "source": [
    "s, a, b = input(), input(), input()\n",
    "i = 0\n",
    "while True:\n",
    "    if s.count(a) and i != 1000:\n",
    "        s = s.replace(a, b)\n",
    "        i += 1\n",
    "    elif i >= 1000:\n",
    "        print(\"Impossible\")\n",
    "        break\n",
    "    else:\n",
    "        print(i)\n",
    "        break"
   ]
  },
  {
   "cell_type": "code",
   "execution_count": null,
   "metadata": {},
   "outputs": [],
   "source": [
    "s = \"vsse\"\n",
    "print(s.replace(\"v\", \"t\"))\n",
    "print(s)"
   ]
  },
  {
   "cell_type": "code",
   "execution_count": null,
   "metadata": {},
   "outputs": [],
   "source": [
    "s = input()\n",
    "t = input()\n",
    "i = 0\n",
    "pos = s.find(t)\n",
    "while pos != -1\n",
    "    if s.startswith(t, s.find(t, pos)):   \n",
    "        i += 1\n",
    "        pos = s.find(t) + 1\n",
    "print(i)\n",
    "            "
   ]
  },
  {
   "cell_type": "code",
   "execution_count": null,
   "metadata": {},
   "outputs": [],
   "source": [
    "print(\"ddf\".count(\"x\"))"
   ]
  },
  {
   "cell_type": "code",
   "execution_count": null,
   "metadata": {},
   "outputs": [],
   "source": [
    "print(\"sds\".find(\"a\"))"
   ]
  },
  {
   "cell_type": "code",
   "execution_count": null,
   "metadata": {},
   "outputs": [],
   "source": [
    "print(\"fsefgter\".find(\"f\", 2))"
   ]
  },
  {
   "cell_type": "code",
   "execution_count": null,
   "metadata": {},
   "outputs": [],
   "source": [
    "import re \n",
    "\n",
    "match = re.search(r'\\d\\d\\D\\d\\d', r'Телефон 123-12-12') \n",
    "print(match[0] if match else 'Not found') "
   ]
  },
  {
   "cell_type": "code",
   "execution_count": null,
   "metadata": {},
   "outputs": [],
   "source": [
    "print(re.split(r' ', 'Где, скажите мне, мои очки??!'))"
   ]
  },
  {
   "cell_type": "code",
   "execution_count": null,
   "metadata": {},
   "outputs": [],
   "source": [
    "text = \"We arrive on 03/25/2018. So you are welcome after 04/01/2018.\" \n",
    "print(re.sub(r'(\\d\\d)/(\\d\\d)/(\\d{4})', r'\\2.\\1.\\3', text)) "
   ]
  },
  {
   "cell_type": "code",
   "execution_count": null,
   "metadata": {},
   "outputs": [],
   "source": [
    "def repl(m): \n",
    "    return f'>censored({str(len(m[0])), m[0]})<' \n",
    "text = \"Некоторые хорошие слова подозрительны: хор, хоровод, хороводоводовед.\" \n",
    "print(re.sub(r'\\b[хХxX]\\w*', repl, text))"
   ]
  },
  {
   "cell_type": "code",
   "execution_count": null,
   "metadata": {},
   "outputs": [],
   "source": [
    "\n",
    "def repl(m): \n",
    "    return '>censored(' + str(len(m[0])) + ')<' \n",
    "text = \"Некоторые хорошие слова подозрительны: хор, хоровод, хороводоводовед.\" \n",
    "print(re.sub(r'\\b[хХxX]\\w*', repl, text))\n"
   ]
  },
  {
   "cell_type": "code",
   "execution_count": null,
   "metadata": {},
   "outputs": [],
   "source": [
    "\n",
    "def repl(m): \n",
    "    return '>censored(' + str(len(m[0])) + ')<' \n",
    "text = \"Некоторые x хорошие слова подозрительны: хор, хоровод, хороводоводовед.\" \n",
    "print(re.sub(r'\\b[хХxX]\\w*', repl, text)) "
   ]
  },
  {
   "cell_type": "code",
   "execution_count": null,
   "metadata": {},
   "outputs": [],
   "source": [
    "match = re.search(r\"([a-zA-Z]+)|(\\d+)\", r\"sxfvdffsd +449874\")\n",
    "print(match)"
   ]
  },
  {
   "cell_type": "code",
   "execution_count": null,
   "metadata": {},
   "outputs": [],
   "source": [
    "line = \"FastEthernet0/1            10.0.12.1       YES manual up                    up\"\n",
    "match = re.fullmatch(r'(\\S+)\\s+([\\w.]+)\\s+(.*)', line)\n",
    "print(match[0])\n",
    "print(match[1])\n",
    "print(match[2])\n",
    "print(match[3])\n",
    "print(match.groups())"
   ]
  },
  {
   "cell_type": "code",
   "execution_count": null,
   "metadata": {},
   "outputs": [],
   "source": [
    "print(re.split(r'\\s*[+*/-]\\s*', r'12  +  13*15   - 6')) "
   ]
  },
  {
   "cell_type": "code",
   "execution_count": null,
   "metadata": {},
   "outputs": [],
   "source": [
    "text = \"SPAM <foo>Here we can <boo>find</boo> something interesting</foo> SPAM\" \n",
    "print(re.search(r'<(\\w+?)>.*?</\\1>', text)[0]) \n",
    "print(re.search(r'<(\\w+)>.*</\\1>', text)[0]) \n"
   ]
  },
  {
   "cell_type": "code",
   "execution_count": null,
   "metadata": {},
   "outputs": [],
   "source": [
    "string = \"\"\"dfef\n",
    "dfvfdv\n",
    "dfsdvsdsdv\"\"\"\n",
    "match = re.findall(\"\\Adf\", string, flags=re.MULTILINE)\n",
    "print(match)"
   ]
  },
  {
   "cell_type": "code",
   "execution_count": null,
   "metadata": {},
   "outputs": [],
   "source": [
    "string = \"test-test-test chow-chow-chow\"\n",
    "pattern = r\"((\\w+)-(\\2)-\\2)\"\n",
    "print(re.findall(pattern, string))"
   ]
  },
  {
   "cell_type": "code",
   "execution_count": 5,
   "metadata": {},
   "outputs": [],
   "source": [
    "import sys\n",
    "import re\n",
    "\n",
    "for line in sys.stdin:\n",
    "    line = line.rstrip()\n",
    "    if re.findall(r\"\\bcat\\b\", line):\n",
    "        print(line)"
   ]
  },
  {
   "cell_type": "code",
   "execution_count": 7,
   "metadata": {},
   "outputs": [
    {
     "name": "stdout",
     "output_type": "stream",
     "text": [
      "[]\n"
     ]
    }
   ],
   "source": [
    "line = \"catapult\"\n",
    "print(re.findall(r\"\\bcat\\b\", line))"
   ]
  },
  {
   "cell_type": "code",
   "execution_count": 32,
   "metadata": {},
   "outputs": [],
   "source": [
    "if None:\n",
    "    print(1)\n"
   ]
  },
  {
   "cell_type": "code",
   "execution_count": 39,
   "metadata": {},
   "outputs": [],
   "source": [
    "import sys\n",
    "import re\n",
    "\n",
    "for line in sys.stdin:\n",
    "    line = line.rstrip()\n",
    "    print(re.sub(r\"(\\w)\\1+\", r\"\\1\", line))"
   ]
  },
  {
   "cell_type": "code",
   "execution_count": 43,
   "metadata": {},
   "outputs": [
    {
     "name": "stdout",
     "output_type": "stream",
     "text": [
      "\\b\n"
     ]
    }
   ],
   "source": [
    "\n",
    "print(r\"\\b\")"
   ]
  },
  {
   "cell_type": "code",
   "execution_count": null,
   "metadata": {},
   "outputs": [],
   "source": []
  },
  {
   "cell_type": "code",
   "execution_count": null,
   "metadata": {},
   "outputs": [],
   "source": []
  }
 ],
 "metadata": {
  "kernelspec": {
   "display_name": "Python 3",
   "language": "python",
   "name": "python3"
  },
  "language_info": {
   "codemirror_mode": {
    "name": "ipython",
    "version": 3
   },
   "file_extension": ".py",
   "mimetype": "text/x-python",
   "name": "python",
   "nbconvert_exporter": "python",
   "pygments_lexer": "ipython3",
   "version": "3.7.4"
  }
 },
 "nbformat": 4,
 "nbformat_minor": 4
}

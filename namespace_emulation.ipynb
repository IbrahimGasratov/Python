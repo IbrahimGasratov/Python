{
 "cells": [
  {
   "cell_type": "code",
   "execution_count": null,
   "metadata": {},
   "outputs": [],
   "source": [
    "# namespace emulation in Python\n",
    "def namespace_emulation():\n",
    "    n = int(input())\n",
    "    namespaces = {'global': None}\n",
    "    variables = {'global': []}\n",
    "\n",
    "    def create(namesp, arg):\n",
    "        namespaces.setdefault(namesp, arg)\n",
    "\n",
    "    def add(namesp, arg):\n",
    "        if namesp in variables:\n",
    "            variables[namesp].append(arg)\n",
    "        else:\n",
    "            variables.setdefault(namesp, [arg])\n",
    "        \n",
    "    def get(namesp, arg):\n",
    "        if namesp in variables and arg in variables[namesp]:\n",
    "            print(namesp)\n",
    "        elif namesp == \"global\" and arg not in variables[\"global\"]:\n",
    "            print(\"None\")\n",
    "        else:\n",
    "            namesp = namespaces[namesp]\n",
    "            get(namesp, arg)\n",
    "\n",
    "    for i in range(n):\n",
    "        cmd, namesp, arg = input().split()\n",
    "        if cmd == \"get\":\n",
    "            get(namesp, arg)\n",
    "        elif cmd == \"add\":\n",
    "            add(namesp, arg)\n",
    "        else:\n",
    "            create(namesp, arg)"
   ]
  }
 ],
 "metadata": {
  "kernelspec": {
   "display_name": "Python 3",
   "language": "python",
   "name": "python3"
  },
  "language_info": {
   "codemirror_mode": {
    "name": "ipython",
    "version": 3
   },
   "file_extension": ".py",
   "mimetype": "text/x-python",
   "name": "python",
   "nbconvert_exporter": "python",
   "pygments_lexer": "ipython3",
   "version": "3.7.4"
  }
 },
 "nbformat": 4,
 "nbformat_minor": 4
}

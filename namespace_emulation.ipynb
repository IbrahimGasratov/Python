{
 "cells": [
  {
   "cell_type": "code",
   "execution_count": null,
   "metadata": {},
   "outputs": [],
   "source": [
    "# namespace emulation in Python\n",
    "n = int(input())\n",
    "namespaces = {'global': None}\n",
    "variables = {'global': []}\n",
    "\n",
    "\n",
    "def create(namesp, arg):\n",
    "    namespaces.setdefault(namesp, arg)\n",
    "\n",
    "    \n",
    "def add(namesp, arg):\n",
    "    if namesp in variables:\n",
    "        variables[namesp].append(arg)\n",
    "    else:\n",
    "        variables.setdefault(namesp, [arg])\n",
    "\n",
    "        \n",
    "def get(namesp, arg):\n",
    "    if (namesp in variables and \n",
    "         arg in variables[namesp]):\n",
    "        print(namesp)\n",
    "        \n",
    "    elif (namesp == \"global\" and\n",
    "          arg not in variables[\"global\"]):\n",
    "        print(\"None\")\n",
    "          \n",
    "    else:\n",
    "        namesp = namespaces[namesp]\n",
    "        get(namesp, arg)\n",
    "\n",
    "        \n",
    "for i in range(n):\n",
    "    cmd, namesp, arg = input().split()\n",
    "    if cmd == \"get\":\n",
    "        get(namesp, arg)\n",
    "    elif cmd == \"add\":\n",
    "        add(namesp, arg)\n",
    "    else:\n",
    "        create(namesp, arg)"
   ]
  }
 ],
 "metadata": {
  "kernelspec": {
   "display_name": "Python 3",
   "language": "python",
   "name": "python3"
  },
  "language_info": {
   "codemirror_mode": {
    "name": "ipython",
    "version": 3
   },
   "file_extension": ".py",
   "mimetype": "text/x-python",
   "name": "python",
   "nbconvert_exporter": "python",
   "pygments_lexer": "ipython3",
   "version": "3.7.4"
  }
 },
 "nbformat": 4,
 "nbformat_minor": 4
}

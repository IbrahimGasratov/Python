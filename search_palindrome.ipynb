{
 "cells": [
  {
   "cell_type": "code",
   "execution_count": null,
   "metadata": {},
   "outputs": [],
   "source": [
    "# checking for being a palindrome\n",
    "def search_palindrome():\n",
    "    a = input()\n",
    "    s = len(a) - 1\n",
    "    i = 0\n",
    "    is_palindrome = True\n",
    "    while i < s:\n",
    "        if a[i] != a[s]:\n",
    "            is_palindrome = False\n",
    "            break\n",
    "        i += 1\n",
    "        s -= 1\n",
    "    if is_palindrome:\n",
    "        print(\"YES\")\n",
    "    else:\n",
    "        print(\"NO\")"
   ]
  }
 ],
 "metadata": {
  "kernelspec": {
   "display_name": "Python 3",
   "language": "python",
   "name": "python3"
  },
  "language_info": {
   "codemirror_mode": {
    "name": "ipython",
    "version": 3
   },
   "file_extension": ".py",
   "mimetype": "text/x-python",
   "name": "python",
   "nbconvert_exporter": "python",
   "pygments_lexer": "ipython3",
   "version": "3.7.4"
  }
 },
 "nbformat": 4,
 "nbformat_minor": 4
}

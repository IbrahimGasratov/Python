{
 "cells": [
  {
   "cell_type": "code",
   "execution_count": null,
   "metadata": {},
   "outputs": [],
   "source": [
    "# sample of working the super() function\n",
    "# if we use a method in a child class,\n",
    "# with name as in a parent class without super() - the method will redefine\n",
    "class Person():\n",
    "    def __init__(self, name, age):\n",
    "        self.name = name\n",
    "        self.age = age\n",
    "        print(\"Person \" + self.name + \" created\")\n",
    "        \n",
    "    def say_hello(self):\n",
    "        print(f\"{self.name} says Hello!\")\n",
    "        \n",
    "        \n",
    "class Student(Person):\n",
    "    def __init__(self, name, age, average_grade):\n",
    "        super().__init__(name, age)\n",
    "        self.average_grade = average_grade\n",
    "        print(\"Student \" + self.name +  \" created\")\n",
    "    \n",
    "    def study(self):\n",
    "        print(self.name + \" studies\")\n",
    "        \n",
    "    def say_hello(self):\n",
    "        print(\"Student with name \" + self.name + \" says hello!\")\n",
    "\n",
    "        \n",
    "class Teacher(Person):\n",
    "    def teach(self):\n",
    "        print(self.name + \" teaches\")\n",
    "\n",
    "        \n",
    "s1 = Student(\"Tomchik\", 24, 4.5)\n",
    "t1 = Teacher(\"Rock\", 28)\n",
    "s1.say_hello()\n",
    "t1.say_hello()"
   ]
  }
 ],
 "metadata": {
  "kernelspec": {
   "display_name": "Python 3",
   "language": "python",
   "name": "python3"
  },
  "language_info": {
   "codemirror_mode": {
    "name": "ipython",
    "version": 3
   },
   "file_extension": ".py",
   "mimetype": "text/x-python",
   "name": "python",
   "nbconvert_exporter": "python",
   "pygments_lexer": "ipython3",
   "version": "3.7.4"
  }
 },
 "nbformat": 4,
 "nbformat_minor": 4
}

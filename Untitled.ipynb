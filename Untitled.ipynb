{
 "cells": [
  {
   "cell_type": "code",
   "execution_count": 1,
   "metadata": {},
   "outputs": [
    {
     "name": "stdout",
     "output_type": "stream",
     "text": [
      "asddsa\n",
      "YES\n"
     ]
    }
   ],
   "source": [
    "# checking for being a palindrome\n",
    "def search_palindrome():\n",
    "    a = input()\n",
    "    s = len(a) - 1\n",
    "    i = 0\n",
    "    is_palindrome = True\n",
    "    while i < s:\n",
    "        if a[i] != a[s]:\n",
    "            is_palindrome = False\n",
    "            break\n",
    "        i += 1\n",
    "        s -= 1\n",
    "    if is_palindrome:\n",
    "        print(\"YES\")\n",
    "    else:\n",
    "        print(\"NO\")\n",
    "search_palindrome()"
   ]
  },
  {
   "cell_type": "code",
   "execution_count": null,
   "metadata": {},
   "outputs": [],
   "source": [
    "# namespace emulation in Python\n",
    "def namespace_emulation():\n",
    "    n = int(input())\n",
    "    namespaces = {'global': None}\n",
    "    variables = {'global': []}\n",
    "\n",
    "    def create(namesp, arg):\n",
    "        namespaces.setdefault(namesp, arg)\n",
    "\n",
    "    def add(namesp, arg):\n",
    "        if namesp in variables:\n",
    "            variables[namesp].append(arg)\n",
    "        else:\n",
    "            variables.setdefault(namesp, [arg])\n",
    "        \n",
    "    def get(namesp, arg):\n",
    "        if namesp in variables and arg in variables[namesp]:\n",
    "            print(namesp)\n",
    "        elif namesp == \"global\" and arg not in variables[\"global\"]:\n",
    "            print(\"None\")\n",
    "        else:\n",
    "            namesp = namespaces[namesp]\n",
    "            get(namesp, arg)\n",
    "\n",
    "    for i in range(n):\n",
    "        cmd, namesp, arg = input().split()\n",
    "        if cmd == \"get\":\n",
    "            get(namesp, arg)\n",
    "        elif cmd == \"add\":\n",
    "            add(namesp, arg)\n",
    "        else:\n",
    "            create(namesp, arg)"
   ]
  },
  {
   "cell_type": "code",
   "execution_count": 3,
   "metadata": {},
   "outputs": [
    {
     "name": "stdout",
     "output_type": "stream",
     "text": [
      "Person Tomchik created\n",
      "Student Tomchik created\n",
      "Person Rock created\n",
      "Student with name Tomchik says hello!\n",
      "Rock says Hello!\n"
     ]
    }
   ],
   "source": [
    "# sample of working the super() function\n",
    "# if we use a method in a child class with name as in a parent class without super() - the method will redefine  \n",
    "class Person():\n",
    "    def __init__(self, name, age):\n",
    "        self.name = name\n",
    "        self.age = age\n",
    "        print(\"Person \" + self.name + \" created\")\n",
    "        \n",
    "    def say_hello(self):\n",
    "        print(f\"{self.name} says Hello!\")\n",
    "        \n",
    "class Student(Person):\n",
    "    def __init__(self, name, age, average_grade):\n",
    "        super().__init__(name, age)\n",
    "        self.average_grade = average_grade\n",
    "        print(\"Student \" + self.name +  \" created\")\n",
    "    \n",
    "    def study(self):\n",
    "        print(self.name + \" studies\")\n",
    "        \n",
    "    def say_hello(self):\n",
    "        print(\"Student with name \" + self.name + \" says hello!\")\n",
    "\n",
    "class Teacher(Person):\n",
    "    def teach(self):\n",
    "        print(self.name + \" teaches\")\n",
    "\n",
    "s1 = Student(\"Tomchik\", 24, 4.5)\n",
    "t1 = Teacher(\"Rock\", 28)\n",
    "s1.say_hello()\n",
    "t1.say_hello()"
   ]
  },
  {
   "cell_type": "code",
   "execution_count": 17,
   "metadata": {},
   "outputs": [
    {
     "name": "stdout",
     "output_type": "stream",
     "text": [
      "Dog named Гуфик is barking\n",
      "Чижик says Meow\n",
      "Гуфик is eating\n",
      "Чижик is eating\n",
      "Frog with Квакер is eating\n"
     ]
    },
    {
     "data": {
      "text/plain": [
       "'Овчарка'"
      ]
     },
     "execution_count": 17,
     "metadata": {},
     "output_type": "execute_result"
    }
   ],
   "source": [
    "class Animal():\n",
    "    def __init__(self, name):\n",
    "        self.name = name\n",
    "        \n",
    "    def eat(self):\n",
    "        print(f\"{self.name} is eating\")\n",
    "        \n",
    "class Dog(Animal):\n",
    "    def __init__(self, name, breed):\n",
    "        super().__init__(name)\n",
    "        self.breed = breed\n",
    "    \n",
    "    def bark(self):\n",
    "        print(f\"Dog named {self.name} is barking\")\n",
    "        \n",
    "class Cat(Animal):\n",
    "    def meow(self):\n",
    "        print(f\"{self.name} says Meow\")\n",
    "        \n",
    "class Frog(Animal):\n",
    "    def eat(self):\n",
    "        print(f\"Frog with {self.name} is eating\")\n",
    "\n",
    "d1 = Dog(\"Гуфик\", \"Овчарка\")\n",
    "c1 = Cat(\"Чижик\")\n",
    "f1 = Frog(\"Квакер\")\n",
    "d1.bark()\n",
    "c1.meow()\n",
    "d1.eat()\n",
    "c1.eat()\n",
    "f1.eat()\n",
    "d1.breed"
   ]
  },
  {
   "cell_type": "code",
   "execution_count": 17,
   "metadata": {},
   "outputs": [
    {
     "data": {
      "text/plain": [
       "8.8"
      ]
     },
     "execution_count": 17,
     "metadata": {},
     "output_type": "execute_result"
    }
   ],
   "source": [
    "class Base:\n",
    "    def price(self):\n",
    "        return 10\n",
    "class InterFoo(Base):\n",
    "    def price(self):\n",
    "        return super().price() * 1.1\n",
    "class Discount(InterFoo):\n",
    "    def price(self):\n",
    "        return super().price() * 0.8\n",
    "    \n",
    "d = Discount()\n",
    "d.price()"
   ]
  },
  {
   "cell_type": "code",
   "execution_count": null,
   "metadata": {},
   "outputs": [],
   "source": [
    "# пример работы функции super()\n",
    "\n",
    "class O:\n",
    "    def method(self):\n",
    "        print('I am O')\n",
    "class A(O):\n",
    "    def method(self):\n",
    "        super().method()\n",
    "        print('I am A')\n",
    "class B(O):\n",
    "    def method(self):\n",
    "        super().method()\n",
    "        print('I am B')\n",
    "class C(A, B):\n",
    "    def method(self):\n",
    "        super().method()\n",
    "        print('I am C')\n",
    "        \n",
    "C().method()"
   ]
  },
  {
   "cell_type": "code",
   "execution_count": null,
   "metadata": {},
   "outputs": [],
   "source": []
  }
 ],
 "metadata": {
  "kernelspec": {
   "display_name": "Python 3",
   "language": "python",
   "name": "python3"
  },
  "language_info": {
   "codemirror_mode": {
    "name": "ipython",
    "version": 3
   },
   "file_extension": ".py",
   "mimetype": "text/x-python",
   "name": "python",
   "nbconvert_exporter": "python",
   "pygments_lexer": "ipython3",
   "version": "3.7.4"
  }
 },
 "nbformat": 4,
 "nbformat_minor": 4
}

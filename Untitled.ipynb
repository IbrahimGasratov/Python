{
 "cells": [
  {
   "cell_type": "code",
   "execution_count": null,
   "metadata": {},
   "outputs": [],
   "source": [
    "a = int(input())\n",
    "print(type(a))"
   ]
  },
  {
   "cell_type": "code",
   "execution_count": null,
   "metadata": {},
   "outputs": [],
   "source": [
    "print(5*\"dfe\")"
   ]
  },
  {
   "cell_type": "code",
   "execution_count": null,
   "metadata": {},
   "outputs": [],
   "source": [
    "print(1, 2, 6, 10)\n",
    "print(25)"
   ]
  },
  {
   "cell_type": "code",
   "execution_count": null,
   "metadata": {},
   "outputs": [],
   "source": [
    "a = input()\n",
    "print(a)"
   ]
  },
  {
   "cell_type": "code",
   "execution_count": null,
   "metadata": {},
   "outputs": [],
   "source": [
    "a, b, c = [1, 2, 3]\n",
    "print(a)\n",
    "print(b)\n",
    "print(c)"
   ]
  },
  {
   "cell_type": "code",
   "execution_count": null,
   "metadata": {},
   "outputs": [],
   "source": [
    "a, b = input().split()\n",
    "a = int(a)\n",
    "print(a)\n",
    "print((b))\n",
    "print(type(a))\n",
    "print(type(b))"
   ]
  },
  {
   "cell_type": "code",
   "execution_count": null,
   "metadata": {},
   "outputs": [],
   "source": [
    "for i in 5, 6, 8:\n",
    "    print(i)"
   ]
  },
  {
   "cell_type": "code",
   "execution_count": null,
   "metadata": {},
   "outputs": [],
   "source": [
    "a = [5, 8, 12, 24]\n",
    "for i in a:\n",
    "    print(i)"
   ]
  },
  {
   "cell_type": "code",
   "execution_count": null,
   "metadata": {},
   "outputs": [],
   "source": [
    "for i in range(2, 20, 5):\n",
    "    print(i)"
   ]
  },
  {
   "cell_type": "code",
   "execution_count": null,
   "metadata": {},
   "outputs": [],
   "source": [
    "a, b = input().split()\n",
    "c = 0\n",
    "a = int(a)\n",
    "b = int(b)\n",
    "for i in range(a, b + 1):\n",
    "    if i % 2 != 0:\n",
    "        c += i\n",
    "print(c)"
   ]
  },
  {
   "cell_type": "code",
   "execution_count": null,
   "metadata": {},
   "outputs": [],
   "source": [
    "a = input().split()\n",
    "print(a)"
   ]
  },
  {
   "cell_type": "code",
   "execution_count": null,
   "metadata": {},
   "outputs": [],
   "source": [
    "a = (int(i) for i in input().split())\n",
    "print(a)"
   ]
  },
  {
   "cell_type": "code",
   "execution_count": null,
   "metadata": {},
   "outputs": [],
   "source": [
    "a = input()\n",
    "s = len(a) - 1\n",
    "i = 0\n",
    "is_palindrome = True\n",
    "while i < s:\n",
    "    if a[i] != a[s]:\n",
    "        is_palindrome = False\n",
    "        break\n",
    "    i += 1\n",
    "    s -= 1\n",
    "if is_palindrome:\n",
    "    print(\"YES\")\n",
    "else:\n",
    "    print(\"NO\")"
   ]
  },
  {
   "cell_type": "code",
   "execution_count": null,
   "metadata": {},
   "outputs": [],
   "source": [
    "print(len(\"sdfw\"))"
   ]
  },
  {
   "cell_type": "code",
   "execution_count": null,
   "metadata": {},
   "outputs": [],
   "source": [
    "print(\"sfwefw\"[-3:])"
   ]
  },
  {
   "cell_type": "code",
   "execution_count": null,
   "metadata": {},
   "outputs": [],
   "source": [
    "s = []\n",
    "for i in range(5):\n",
    "    s.append(i)\n",
    "print(s)"
   ]
  },
  {
   "cell_type": "code",
   "execution_count": null,
   "metadata": {},
   "outputs": [],
   "source": [
    "s = [int(i) for i in range(10)]\n",
    "print(s)"
   ]
  },
  {
   "cell_type": "code",
   "execution_count": null,
   "metadata": {},
   "outputs": [],
   "source": [
    "print(\"Fdsf eregfry\", end=\" \")\n",
    "print(\"sdgefwe\")"
   ]
  },
  {
   "cell_type": "code",
   "execution_count": null,
   "metadata": {},
   "outputs": [],
   "source": [
    "print(\"sfwewrfe\", \"Dawferf\", \"Fwefwrgsd\", sep=\"\")"
   ]
  },
  {
   "cell_type": "code",
   "execution_count": null,
   "metadata": {},
   "outputs": [],
   "source": [
    "print(\"sfwewrfe\", \"Dawferf\", \"Fwefwrgsd\")"
   ]
  },
  {
   "cell_type": "code",
   "execution_count": null,
   "metadata": {},
   "outputs": [],
   "source": [
    "n = int(input())\n",
    "i = 1\n",
    "s = 0\n",
    "a = []\n",
    "while i <= n:\n",
    "    for j in range(0, i):\n",
    "        a.append(i)\n",
    "    i += 1\n",
    "for p in a:\n",
    "    print(p, end=\" \")\n",
    "    s += 1\n",
    "    if s == n:\n",
    "        break"
   ]
  },
  {
   "cell_type": "code",
   "execution_count": null,
   "metadata": {},
   "outputs": [],
   "source": [
    "sum = 0\n",
    "for i in range(int(input()) + 1):\n",
    "    sum += i\n",
    "print(sum)"
   ]
  },
  {
   "cell_type": "code",
   "execution_count": null,
   "metadata": {},
   "outputs": [],
   "source": [
    "a = [0 for i in range(6)]\n",
    "print(a)\n",
    "print(type(a[0]))"
   ]
  },
  {
   "cell_type": "code",
   "execution_count": null,
   "metadata": {},
   "outputs": [],
   "source": [
    "a = [int(i) for i in input().split()]\n",
    "print(a)"
   ]
  },
  {
   "cell_type": "code",
   "execution_count": null,
   "metadata": {},
   "outputs": [],
   "source": [
    "a = [[0] * 5 for i in range(5)]\n",
    "print(a)"
   ]
  },
  {
   "cell_type": "code",
   "execution_count": null,
   "metadata": {},
   "outputs": [],
   "source": [
    "a = [[0 for i in range(5)] for i in range(5)]\n",
    "print(a)"
   ]
  },
  {
   "cell_type": "code",
   "execution_count": null,
   "metadata": {},
   "outputs": [],
   "source": [
    "print(5)"
   ]
  },
  {
   "cell_type": "code",
   "execution_count": null,
   "metadata": {},
   "outputs": [],
   "source": [
    "print(list(\"dsf\"))"
   ]
  },
  {
   "cell_type": "code",
   "execution_count": null,
   "metadata": {},
   "outputs": [],
   "source": [
    "n = int(input())\n",
    "namespaces = {'global': None}\n",
    "variables = {'global': []}\n",
    "\n",
    "def create(namesp, arg):\n",
    "    namespaces.setdefault(namesp, arg)\n",
    "\n",
    "def add(namesp, arg):\n",
    "    if namesp in variables:\n",
    "        variables[namesp].append(arg)\n",
    "    else:\n",
    "        variables.setdefault(namesp, [arg])\n",
    "        \n",
    "def get(namesp, arg):\n",
    "    if namesp in variables and arg in variables[namesp]:\n",
    "        print(namesp)\n",
    "    elif namesp == \"global\" and arg not in variables[\"global\"]:\n",
    "            print(\"None\")\n",
    "    else:\n",
    "        namesp = namespaces[namesp]\n",
    "        get(namesp, arg)\n",
    "\n",
    "for i in range(n):\n",
    "    cmd, namesp, arg = input().split()\n",
    "    if cmd == \"get\":\n",
    "        get(namesp, arg)\n",
    "    elif cmd == \"add\":\n",
    "        add(namesp, arg)\n",
    "    else:\n",
    "        create(namesp, arg)"
   ]
  },
  {
   "cell_type": "code",
   "execution_count": null,
   "metadata": {},
   "outputs": [],
   "source": [
    "print(isinstance(4, int))"
   ]
  },
  {
   "cell_type": "code",
   "execution_count": null,
   "metadata": {},
   "outputs": [],
   "source": [
    "isinstance(4, int)"
   ]
  },
  {
   "cell_type": "code",
   "execution_count": null,
   "metadata": {},
   "outputs": [],
   "source": [
    "isinstance(4, float)"
   ]
  },
  {
   "cell_type": "code",
   "execution_count": null,
   "metadata": {},
   "outputs": [],
   "source": [
    "isinstance(4, object)"
   ]
  },
  {
   "cell_type": "code",
   "execution_count": null,
   "metadata": {},
   "outputs": [],
   "source": [
    "isinstance(object, object)"
   ]
  },
  {
   "cell_type": "code",
   "execution_count": null,
   "metadata": {},
   "outputs": [],
   "source": [
    "isinstance(class, object)"
   ]
  },
  {
   "cell_type": "code",
   "execution_count": null,
   "metadata": {},
   "outputs": [],
   "source": [
    "isinstance(type, object)"
   ]
  },
  {
   "cell_type": "code",
   "execution_count": null,
   "metadata": {},
   "outputs": [],
   "source": [
    "print(type(int))"
   ]
  },
  {
   "cell_type": "code",
   "execution_count": null,
   "metadata": {},
   "outputs": [],
   "source": [
    "print(type(type))"
   ]
  },
  {
   "cell_type": "code",
   "execution_count": null,
   "metadata": {},
   "outputs": [],
   "source": [
    "class MoneyBox:\n",
    "    def __init__(self, capacity):\n",
    "        self.v = 0\n",
    "        self.i = capacity\n",
    "d = MoneyBox(0)\n",
    "print(d.v)"
   ]
  },
  {
   "cell_type": "code",
   "execution_count": null,
   "metadata": {},
   "outputs": [],
   "source": [
    "class Foo:\n",
    "    def __init__(self):\n",
    "        self.Bar = \"win!\"\n",
    "\n",
    "foo = Foo()\n",
    "print(foo.Bar)"
   ]
  },
  {
   "cell_type": "code",
   "execution_count": null,
   "metadata": {},
   "outputs": [],
   "source": [
    "class MoneyBox:\n",
    "    def __init__(self, capacity):\n",
    "        self.capacity = capacity\n",
    "        self.v = 0\n",
    "        \n",
    "    def can_add(self, v):\n",
    "        if (self.v + v) > self.capacity:\n",
    "            return False\n",
    "        return True\n",
    "    \n",
    "    def add(self, v):\n",
    "        self.v += v\n",
    "    \n",
    "    \n",
    "\n",
    "\n",
    "f = MoneyBox(5)\n",
    "\n",
    "f.add(4)\n",
    "print(f.v)\n",
    "print(f.can_add(1))"
   ]
  },
  {
   "cell_type": "code",
   "execution_count": null,
   "metadata": {},
   "outputs": [],
   "source": [
    "class Buffer:\n",
    "    def __init__(self):\n",
    "        self.a = []\n",
    "        \n",
    "    def add(self, *a):\n",
    "        self.a += a\n",
    "        while len(self.a) >= 5:\n",
    "            print(sum(self.a[:5]))\n",
    "            self.a = self.a[5:]\n",
    "            \n",
    "    def get_current_part(self):\n",
    "            return self.a\n",
    "\n",
    "buf = Buffer()\n",
    "buf.add(1, 1, 1, 1, 1, 1, 1, 1, 1, 1, 1)"
   ]
  },
  {
   "cell_type": "code",
   "execution_count": null,
   "metadata": {},
   "outputs": [],
   "source": [
    "print(5)"
   ]
  },
  {
   "cell_type": "code",
   "execution_count": null,
   "metadata": {},
   "outputs": [],
   "source": [
    "x = list()\n",
    "print(x)"
   ]
  },
  {
   "cell_type": "code",
   "execution_count": null,
   "metadata": {},
   "outputs": [],
   "source": [
    "print(range(5))"
   ]
  },
  {
   "cell_type": "code",
   "execution_count": null,
   "metadata": {},
   "outputs": [],
   "source": [
    "k, n = int(input()), int(input())\n",
    "print(k, n)"
   ]
  },
  {
   "cell_type": "code",
   "execution_count": null,
   "metadata": {},
   "outputs": [],
   "source": [
    "#combinations(combinatorics)\n",
    "import itertools\n",
    "k, n = input().split()\n",
    "k = int(k)\n",
    "n = int(n)\n",
    "if k == 1 and n == 1:\n",
    "    print(0)\n",
    "if k > n:\n",
    "    print(0)\n",
    "comb = list(itertools.combinations([int(i) for i in range(n)], k))\n",
    "l = []\n",
    "if k != 1 and n != 1:\n",
    "    for i in comb:\n",
    "        l.append(list(i))\n",
    "    for k in l:\n",
    "        for j in k:\n",
    "            print(j, end=\" \")\n",
    "        print()"
   ]
  },
  {
   "cell_type": "code",
   "execution_count": null,
   "metadata": {},
   "outputs": [],
   "source": [
    "n = int(input())\n",
    "recurs = [2, 1]\n",
    "for i in range(n+1):\n",
    "    if i >= 2:\n",
    "        recurs.append(recurs[i-1]+recurs[i-2])\n",
    "print(recurs[-1])"
   ]
  },
  {
   "cell_type": "code",
   "execution_count": null,
   "metadata": {},
   "outputs": [],
   "source": [
    "class A: pass\n",
    "class B: pass\n",
    "class C: pass\n",
    "class D(C, B): pass\n",
    "class E(A): pass\n",
    "class F(D): pass\n",
    "print(F.mro())"
   ]
  },
  {
   "cell_type": "code",
   "execution_count": null,
   "metadata": {},
   "outputs": [],
   "source": [
    "class Base:\n",
    "    def __init__(self):\n",
    "        print(\"- class Base init\")\n",
    "        self.val = 0\n",
    "\n",
    "    def add_one(self):\n",
    "        print(\"- class Base add_one\")\n",
    "        self.val += 1\n",
    "\n",
    "    def add_many(self, x):\n",
    "        print(\"- class Base add_many\")\n",
    "        for i in range(x):\n",
    "            self.add_one()\n",
    "\n",
    "class Derived(Base):\n",
    "    def add_one(self):\n",
    "        print(\"- class Derived add_one\")\n",
    "        self.val += 10\n",
    "\n",
    "a = Derived()\n",
    "a.add_one()\n",
    "print(\"a =\", a.val, \"******\")\n",
    "b = Derived()\n",
    "b.add_many(3)\n",
    "print(\"b =\", b.val, \"******\")"
   ]
  },
  {
   "cell_type": "code",
   "execution_count": null,
   "metadata": {},
   "outputs": [],
   "source": [
    "class Base:\n",
    "    def __init__(self):\n",
    "        self.val = 0\n",
    "\n",
    "    def add_one(self):\n",
    "        self.val += 1\n",
    "\n",
    "    def add_many(self, x):\n",
    "        for i in range(x):\n",
    "            self.add_one()\n",
    "\n",
    "class Derived(Base):\n",
    "    def add_one(self):\n",
    "        self.val += 10\n",
    "\n",
    "\n",
    "a = Derived()\n",
    "a.add_one()\n",
    "\n",
    "b = Base()\n",
    "b.add_many(3)\n",
    "\n",
    "print(a.val)\n",
    "print(b.val)"
   ]
  },
  {
   "cell_type": "code",
   "execution_count": null,
   "metadata": {},
   "outputs": [],
   "source": [
    "class A: pass\n",
    "class B: pass\n",
    "class C: pass\n",
    "class D(C, B): pass\n",
    "class F(D, A): pass\n",
    "print(F.mro())"
   ]
  },
  {
   "cell_type": "code",
   "execution_count": null,
   "metadata": {},
   "outputs": [],
   "source": [
    "class Person():\n",
    "    counter = 10\n",
    "    \n",
    "    def __init__(self, name, surname, place_of_birth, year_of_birth):\n",
    "        self.name = name\n",
    "        self.surname = surname\n",
    "        self.place_of_birth = place_of_birth\n",
    "        self.year_of_birth = year_of_birth\n",
    "        \n",
    "    def print_info(self, n):\n",
    "        for i in range(n):\n",
    "            print(f\"Name: {self.name}, Surname: {self.surname}, Place of birth: {self.place_of_birth}\")\n",
    "        \n",
    "    def get_age(self, current_year):\n",
    "        return current_year - self.year_of_birth\n",
    "    \n",
    "print(counter)"
   ]
  },
  {
   "cell_type": "code",
   "execution_count": null,
   "metadata": {},
   "outputs": [],
   "source": [
    "p1 = Person(\"Elon\", \"Musk\", \"ЮАР\", \"1971\")"
   ]
  },
  {
   "cell_type": "code",
   "execution_count": null,
   "metadata": {},
   "outputs": [],
   "source": [
    "p2 = Person(\"Sergey\", \"Korolev\", \"Russia\", \"1907\")"
   ]
  },
  {
   "cell_type": "code",
   "execution_count": null,
   "metadata": {},
   "outputs": [],
   "source": [
    "p1.some_num"
   ]
  },
  {
   "cell_type": "code",
   "execution_count": null,
   "metadata": {},
   "outputs": [],
   "source": [
    "Person.some_num"
   ]
  },
  {
   "cell_type": "code",
   "execution_count": null,
   "metadata": {},
   "outputs": [],
   "source": [
    "Person.some_num = 456"
   ]
  },
  {
   "cell_type": "code",
   "execution_count": null,
   "metadata": {},
   "outputs": [],
   "source": [
    "p1.some_num"
   ]
  },
  {
   "cell_type": "code",
   "execution_count": null,
   "metadata": {},
   "outputs": [],
   "source": [
    "p1.some_num = 789"
   ]
  },
  {
   "cell_type": "code",
   "execution_count": null,
   "metadata": {},
   "outputs": [],
   "source": [
    "p2 = Person(\"Sergey\", \"Korolev\", \"Russia\", \"1907\")"
   ]
  },
  {
   "cell_type": "code",
   "execution_count": null,
   "metadata": {},
   "outputs": [],
   "source": [
    "p2.some_num"
   ]
  },
  {
   "cell_type": "code",
   "execution_count": null,
   "metadata": {},
   "outputs": [],
   "source": [
    "Person.some_num"
   ]
  },
  {
   "cell_type": "code",
   "execution_count": null,
   "metadata": {},
   "outputs": [],
   "source": [
    "p1.some_num"
   ]
  },
  {
   "cell_type": "code",
   "execution_count": 1,
   "metadata": {},
   "outputs": [
    {
     "ename": "NameError",
     "evalue": "name 'PI' is not defined",
     "output_type": "error",
     "traceback": [
      "\u001b[1;31m---------------------------------------------------------------------------\u001b[0m",
      "\u001b[1;31mNameError\u001b[0m                                 Traceback (most recent call last)",
      "\u001b[1;32m<ipython-input-1-8f069721e1d1>\u001b[0m in \u001b[0;36m<module>\u001b[1;34m\u001b[0m\n\u001b[0;32m      8\u001b[0m \u001b[0mc1\u001b[0m \u001b[1;33m=\u001b[0m \u001b[0mCircle\u001b[0m\u001b[1;33m(\u001b[0m\u001b[1;36m2\u001b[0m\u001b[1;33m)\u001b[0m\u001b[1;33m\u001b[0m\u001b[1;33m\u001b[0m\u001b[0m\n\u001b[0;32m      9\u001b[0m \u001b[0mc1\u001b[0m\u001b[1;33m.\u001b[0m\u001b[0mPI\u001b[0m \u001b[1;33m=\u001b[0m \u001b[1;36m3\u001b[0m\u001b[1;33m\u001b[0m\u001b[1;33m\u001b[0m\u001b[0m\n\u001b[1;32m---> 10\u001b[1;33m \u001b[0mc1\u001b[0m\u001b[1;33m.\u001b[0m\u001b[0mget_perimeter\u001b[0m\u001b[1;33m(\u001b[0m\u001b[1;33m)\u001b[0m\u001b[1;33m\u001b[0m\u001b[1;33m\u001b[0m\u001b[0m\n\u001b[0m",
      "\u001b[1;32m<ipython-input-1-8f069721e1d1>\u001b[0m in \u001b[0;36mget_perimeter\u001b[1;34m(self)\u001b[0m\n\u001b[0;32m      4\u001b[0m \u001b[1;33m\u001b[0m\u001b[0m\n\u001b[0;32m      5\u001b[0m     \u001b[1;32mdef\u001b[0m \u001b[0mget_perimeter\u001b[0m\u001b[1;33m(\u001b[0m\u001b[0mself\u001b[0m\u001b[1;33m)\u001b[0m\u001b[1;33m:\u001b[0m\u001b[1;33m\u001b[0m\u001b[1;33m\u001b[0m\u001b[0m\n\u001b[1;32m----> 6\u001b[1;33m         \u001b[1;32mreturn\u001b[0m \u001b[1;36m2\u001b[0m \u001b[1;33m*\u001b[0m \u001b[0mPI\u001b[0m \u001b[1;33m*\u001b[0m \u001b[0mself\u001b[0m\u001b[1;33m.\u001b[0m\u001b[0mradius\u001b[0m\u001b[1;33m\u001b[0m\u001b[1;33m\u001b[0m\u001b[0m\n\u001b[0m\u001b[0;32m      7\u001b[0m \u001b[1;33m\u001b[0m\u001b[0m\n\u001b[0;32m      8\u001b[0m \u001b[0mc1\u001b[0m \u001b[1;33m=\u001b[0m \u001b[0mCircle\u001b[0m\u001b[1;33m(\u001b[0m\u001b[1;36m2\u001b[0m\u001b[1;33m)\u001b[0m\u001b[1;33m\u001b[0m\u001b[1;33m\u001b[0m\u001b[0m\n",
      "\u001b[1;31mNameError\u001b[0m: name 'PI' is not defined"
     ]
    }
   ],
   "source": [
    "\n",
    "class Circle():\n",
    "    def __init__(self, radius):\n",
    "        self.radius = radius\n",
    "        \n",
    "    def get_perimeter(self):\n",
    "        return 2 * PI * self.radius\n",
    "\n",
    "c1 = Circle(2)\n",
    "c1.PI = 3\n",
    "c1.get_perimeter()"
   ]
  },
  {
   "cell_type": "code",
   "execution_count": 9,
   "metadata": {},
   "outputs": [
    {
     "ename": "AttributeError",
     "evalue": "'Student' object has no attribute 'name'",
     "output_type": "error",
     "traceback": [
      "\u001b[1;31m---------------------------------------------------------------------------\u001b[0m",
      "\u001b[1;31mAttributeError\u001b[0m                            Traceback (most recent call last)",
      "\u001b[1;32m<ipython-input-9-3e0aa9ad060c>\u001b[0m in \u001b[0;36m<module>\u001b[1;34m\u001b[0m\n\u001b[0;32m     23\u001b[0m         \u001b[0mprint\u001b[0m\u001b[1;33m(\u001b[0m\u001b[0mself\u001b[0m\u001b[1;33m.\u001b[0m\u001b[0mname\u001b[0m \u001b[1;33m+\u001b[0m \u001b[1;34m\" teaches\"\u001b[0m\u001b[1;33m)\u001b[0m\u001b[1;33m\u001b[0m\u001b[1;33m\u001b[0m\u001b[0m\n\u001b[0;32m     24\u001b[0m \u001b[1;33m\u001b[0m\u001b[0m\n\u001b[1;32m---> 25\u001b[1;33m \u001b[0ms1\u001b[0m \u001b[1;33m=\u001b[0m \u001b[0mStudent\u001b[0m\u001b[1;33m(\u001b[0m\u001b[1;34m\"Tomchik\"\u001b[0m\u001b[1;33m,\u001b[0m \u001b[1;36m24\u001b[0m\u001b[1;33m,\u001b[0m \u001b[1;36m4.5\u001b[0m\u001b[1;33m)\u001b[0m\u001b[1;33m\u001b[0m\u001b[1;33m\u001b[0m\u001b[0m\n\u001b[0m\u001b[0;32m     26\u001b[0m \u001b[1;31m#t1 = Teacher(\"Rock\", 28)\u001b[0m\u001b[1;33m\u001b[0m\u001b[1;33m\u001b[0m\u001b[1;33m\u001b[0m\u001b[0m\n\u001b[0;32m     27\u001b[0m \u001b[0ms1\u001b[0m\u001b[1;33m.\u001b[0m\u001b[0msay_hello\u001b[0m\u001b[1;33m(\u001b[0m\u001b[1;33m)\u001b[0m\u001b[1;33m\u001b[0m\u001b[1;33m\u001b[0m\u001b[0m\n",
      "\u001b[1;32m<ipython-input-9-3e0aa9ad060c>\u001b[0m in \u001b[0;36m__init__\u001b[1;34m(self, name, age, average_grade)\u001b[0m\n\u001b[0;32m     11\u001b[0m     \u001b[1;32mdef\u001b[0m \u001b[0m__init__\u001b[0m\u001b[1;33m(\u001b[0m\u001b[0mself\u001b[0m\u001b[1;33m,\u001b[0m \u001b[0mname\u001b[0m\u001b[1;33m,\u001b[0m \u001b[0mage\u001b[0m\u001b[1;33m,\u001b[0m \u001b[0maverage_grade\u001b[0m\u001b[1;33m)\u001b[0m\u001b[1;33m:\u001b[0m\u001b[1;33m\u001b[0m\u001b[1;33m\u001b[0m\u001b[0m\n\u001b[0;32m     12\u001b[0m         \u001b[0mself\u001b[0m\u001b[1;33m.\u001b[0m\u001b[0maverage_grade\u001b[0m \u001b[1;33m=\u001b[0m \u001b[0maverage_grade\u001b[0m\u001b[1;33m\u001b[0m\u001b[1;33m\u001b[0m\u001b[0m\n\u001b[1;32m---> 13\u001b[1;33m         \u001b[0mprint\u001b[0m\u001b[1;33m(\u001b[0m\u001b[1;34m\"Student \"\u001b[0m \u001b[1;33m+\u001b[0m \u001b[0mself\u001b[0m\u001b[1;33m.\u001b[0m\u001b[0mname\u001b[0m \u001b[1;33m+\u001b[0m  \u001b[1;34m\" created\"\u001b[0m\u001b[1;33m)\u001b[0m\u001b[1;33m\u001b[0m\u001b[1;33m\u001b[0m\u001b[0m\n\u001b[0m\u001b[0;32m     14\u001b[0m \u001b[1;33m\u001b[0m\u001b[0m\n\u001b[0;32m     15\u001b[0m     \u001b[1;32mdef\u001b[0m \u001b[0mstudy\u001b[0m\u001b[1;33m(\u001b[0m\u001b[0mself\u001b[0m\u001b[1;33m)\u001b[0m\u001b[1;33m:\u001b[0m\u001b[1;33m\u001b[0m\u001b[1;33m\u001b[0m\u001b[0m\n",
      "\u001b[1;31mAttributeError\u001b[0m: 'Student' object has no attribute 'name'"
     ]
    }
   ],
   "source": [
    "class Person():\n",
    "    def __init__(self, name, age):\n",
    "        self.name = name\n",
    "        self.age = age\n",
    "        print(\"Person \" + self.name + \" created\")\n",
    "        \n",
    "    def say_hello(self):\n",
    "        print(f\"{self.name} says Hello!\")\n",
    "        \n",
    "class Student(Person):\n",
    "    def __init__(self, name, age, average_grade):\n",
    "        super().__\n",
    "        self.average_grade = average_grade\n",
    "        print(\"Student \" + self.name +  \" created\")\n",
    "    \n",
    "    def study(self):\n",
    "        print(self.name + \" studies\")\n",
    "        \n",
    "    def say_hello(self):\n",
    "        print(\"Student with name \" + self.name + \" says hello!\")\n",
    "\n",
    "class Teacher(Person):\n",
    "    def teach(self):\n",
    "        print(self.name + \" teaches\")\n",
    "\n",
    "s1 = Student(\"Tomchik\", 24, 4.5)\n",
    "#t1 = Teacher(\"Rock\", 28)\n",
    "s1.say_hello()\n",
    "#t1.say_hello()"
   ]
  },
  {
   "cell_type": "code",
   "execution_count": 17,
   "metadata": {},
   "outputs": [
    {
     "name": "stdout",
     "output_type": "stream",
     "text": [
      "Dog named Гуфик is barking\n",
      "Чижик says Meow\n",
      "Гуфик is eating\n",
      "Чижик is eating\n",
      "Frog with Квакер is eating\n"
     ]
    },
    {
     "data": {
      "text/plain": [
       "'Овчарка'"
      ]
     },
     "execution_count": 17,
     "metadata": {},
     "output_type": "execute_result"
    }
   ],
   "source": [
    "class Animal():\n",
    "    def __init__(self, name):\n",
    "        self.name = name\n",
    "        \n",
    "    def eat(self):\n",
    "        print(f\"{self.name} is eating\")\n",
    "        \n",
    "class Dog(Animal):\n",
    "    def __init__(self, name, breed):\n",
    "        super().__init__(name)\n",
    "        self.breed = breed\n",
    "    \n",
    "    def bark(self):\n",
    "        print(f\"Dog named {self.name} is barking\")\n",
    "        \n",
    "class Cat(Animal):\n",
    "    def meow(self):\n",
    "        print(f\"{self.name} says Meow\")\n",
    "        \n",
    "class Frog(Animal):\n",
    "    def eat(self):\n",
    "        print(f\"Frog with {self.name} is eating\")\n",
    "\n",
    "d1 = Dog(\"Гуфик\", \"Овчарка\")\n",
    "c1 = Cat(\"Чижик\")\n",
    "f1 = Frog(\"Квакер\")\n",
    "d1.bark()\n",
    "c1.meow()\n",
    "d1.eat()\n",
    "c1.eat()\n",
    "f1.eat()\n",
    "d1.breed"
   ]
  },
  {
   "cell_type": "code",
   "execution_count": 16,
   "metadata": {},
   "outputs": [
    {
     "name": "stdout",
     "output_type": "stream",
     "text": [
      "Mon Jan 17 00:16:13 2022: fd\n",
      "Mon Jan 17 00:16:13 2022: df\n",
      "Mon Jan 17 00:16:13 2022: gh\n",
      "Mon Jan 17 00:16:13 2022: hg\n",
      "['fd', 'df']\n",
      "['gh', 'hg']\n"
     ]
    }
   ],
   "source": [
    "import time\n",
    "\n",
    "class Loggable:\n",
    "    def log(self, msg):\n",
    "        print(str(time.ctime()) + \": \" + str(msg))\n",
    "\n",
    "class LoggableList(list, Loggable):\n",
    "    def append(self, elem):\n",
    "        super().append(elem)\n",
    "        self.log(elem)\n",
    "        \n",
    "z = LoggableList()\n",
    "g = LoggableList()\n",
    "z.append(\"fd\")\n",
    "z.append(\"df\")\n",
    "g.append(\"gh\")\n",
    "g.append(\"hg\")\n",
    "print(z)\n",
    "print(g)"
   ]
  },
  {
   "cell_type": "code",
   "execution_count": 17,
   "metadata": {},
   "outputs": [
    {
     "data": {
      "text/plain": [
       "8.8"
      ]
     },
     "execution_count": 17,
     "metadata": {},
     "output_type": "execute_result"
    }
   ],
   "source": [
    "class Base:\n",
    "    def price(self):\n",
    "        return 10\n",
    "class InterFoo(Base):\n",
    "    def price(self):\n",
    "        return super().price() * 1.1\n",
    "class Discount(InterFoo):\n",
    "    def price(self):\n",
    "        return super().price() * 0.8\n",
    "    \n",
    "d = Discount()\n",
    "d.price()"
   ]
  },
  {
   "cell_type": "code",
   "execution_count": null,
   "metadata": {},
   "outputs": [],
   "source": [
    "class O:\n",
    "    def method(self):\n",
    "        print('I am O')\n",
    "class A(O):\n",
    "    def method(self):\n",
    "        super().method()\n",
    "        print('I am A')\n",
    "class B(O):\n",
    "    def method(self):\n",
    "        super().method()\n",
    "        print('I am B')\n",
    "class C(A, B):\n",
    "    def method(self):\n",
    "        super().method()\n",
    "        print('I am C')\n",
    "        \n",
    "C().method()"
   ]
  },
  {
   "cell_type": "code",
   "execution_count": null,
   "metadata": {},
   "outputs": [],
   "source": []
  }
 ],
 "metadata": {
  "kernelspec": {
   "display_name": "Python 3",
   "language": "python",
   "name": "python3"
  },
  "language_info": {
   "codemirror_mode": {
    "name": "ipython",
    "version": 3
   },
   "file_extension": ".py",
   "mimetype": "text/x-python",
   "name": "python",
   "nbconvert_exporter": "python",
   "pygments_lexer": "ipython3",
   "version": "3.7.4"
  }
 },
 "nbformat": 4,
 "nbformat_minor": 4
}

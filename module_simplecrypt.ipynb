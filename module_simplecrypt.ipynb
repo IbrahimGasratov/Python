{
 "cells": [
  {
   "cell_type": "code",
   "execution_count": 2,
   "metadata": {},
   "outputs": [],
   "source": [
    "import simplecrypt"
   ]
  },
  {
   "cell_type": "code",
   "execution_count": null,
   "metadata": {},
   "outputs": [
    {
     "name": "stdout",
     "output_type": "stream",
     "text": [
      "b'Alice loves Bob'\n"
     ]
    }
   ],
   "source": [
    "with open(\"passwords.txt\", \"rb\") as r, \\\n",
    "     open(\"encrypted.bin\", \"rb\") as inp:\n",
    "    encrypted = inp.read()\n",
    "    password = r.readline().strip()\n",
    "    while True:\n",
    "        if len(password) != 0:\n",
    "            password = r.readline().strip()\n",
    "            try:\n",
    "                print(simplecrypt.decrypt(password, encrypted))\n",
    "            except:\n",
    "                continue\n",
    "        else:\n",
    "            break"
   ]
  },
  {
   "cell_type": "code",
   "execution_count": null,
   "metadata": {},
   "outputs": [],
   "source": []
  },
  {
   "cell_type": "code",
   "execution_count": null,
   "metadata": {},
   "outputs": [],
   "source": []
  }
 ],
 "metadata": {
  "kernelspec": {
   "display_name": "Python 3",
   "language": "python",
   "name": "python3"
  },
  "language_info": {
   "codemirror_mode": {
    "name": "ipython",
    "version": 3
   },
   "file_extension": ".py",
   "mimetype": "text/x-python",
   "name": "python",
   "nbconvert_exporter": "python",
   "pygments_lexer": "ipython3",
   "version": "3.7.4"
  }
 },
 "nbformat": 4,
 "nbformat_minor": 4
}

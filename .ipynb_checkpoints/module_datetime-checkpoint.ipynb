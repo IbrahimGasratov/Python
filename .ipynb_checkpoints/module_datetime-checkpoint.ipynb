{
 "cells": [
  {
   "cell_type": "code",
   "execution_count": null,
   "metadata": {},
   "outputs": [],
   "source": [
    "import datetime\n",
    "a = input().split()\n",
    "y, m, d = int(a[0]), int(a[1]), int(a[2])\n",
    "days = int(input())\n",
    "d1 = datetime.date(y, m, d)\n",
    "delta = datetime.timedelta(days)\n",
    "result = d1 + delta\n",
    "print(result.year, result.month, result.day)"
   ]
  }
 ],
 "metadata": {
  "kernelspec": {
   "display_name": "Python 3",
   "language": "python",
   "name": "python3"
  },
  "language_info": {
   "codemirror_mode": {
    "name": "ipython",
    "version": 3
   },
   "file_extension": ".py",
   "mimetype": "text/x-python",
   "name": "python",
   "nbconvert_exporter": "python",
   "pygments_lexer": "ipython3",
   "version": "3.7.4"
  }
 },
 "nbformat": 4,
 "nbformat_minor": 4
}

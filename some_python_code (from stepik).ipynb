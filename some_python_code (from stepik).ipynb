{
 "cells": [
  {
   "cell_type": "code",
   "execution_count": null,
   "metadata": {},
   "outputs": [],
   "source": [
    "# checking for being a palindrome\n",
    "def search_palindrome():\n",
    "    a = input()\n",
    "    s = len(a) - 1\n",
    "    i = 0\n",
    "    is_palindrome = True\n",
    "    while i < s:\n",
    "        if a[i] != a[s]:\n",
    "            is_palindrome = False\n",
    "            break\n",
    "        i += 1\n",
    "        s -= 1\n",
    "    if is_palindrome:\n",
    "        print(\"YES\")\n",
    "    else:\n",
    "        print(\"NO\")\n",
    "search_palindrome()"
   ]
  },
  {
   "cell_type": "code",
   "execution_count": null,
   "metadata": {},
   "outputs": [],
   "source": [
    "# namespace emulation in Python\n",
    "def namespace_emulation():\n",
    "    n = int(input())\n",
    "    namespaces = {'global': None}\n",
    "    variables = {'global': []}\n",
    "\n",
    "    def create(namesp, arg):\n",
    "        namespaces.setdefault(namesp, arg)\n",
    "\n",
    "    def add(namesp, arg):\n",
    "        if namesp in variables:\n",
    "            variables[namesp].append(arg)\n",
    "        else:\n",
    "            variables.setdefault(namesp, [arg])\n",
    "        \n",
    "    def get(namesp, arg):\n",
    "        if namesp in variables and arg in variables[namesp]:\n",
    "            print(namesp)\n",
    "        elif namesp == \"global\" and arg not in variables[\"global\"]:\n",
    "            print(\"None\")\n",
    "        else:\n",
    "            namesp = namespaces[namesp]\n",
    "            get(namesp, arg)\n",
    "\n",
    "    for i in range(n):\n",
    "        cmd, namesp, arg = input().split()\n",
    "        if cmd == \"get\":\n",
    "            get(namesp, arg)\n",
    "        elif cmd == \"add\":\n",
    "            add(namesp, arg)\n",
    "        else:\n",
    "            create(namesp, arg)"
   ]
  },
  {
   "cell_type": "code",
   "execution_count": 3,
   "metadata": {},
   "outputs": [
    {
     "name": "stdout",
     "output_type": "stream",
     "text": [
      "Person Tomchik created\n",
      "Student Tomchik created\n",
      "Person Rock created\n",
      "Student with name Tomchik says hello!\n",
      "Rock says Hello!\n"
     ]
    }
   ],
   "source": [
    "# sample of working the super() function\n",
    "# if we use a method in a child class with name as in a parent class without super() - the method will redefine  \n",
    "class Person():\n",
    "    def __init__(self, name, age):\n",
    "        self.name = name\n",
    "        self.age = age\n",
    "        print(\"Person \" + self.name + \" created\")\n",
    "        \n",
    "    def say_hello(self):\n",
    "        print(f\"{self.name} says Hello!\")\n",
    "        \n",
    "class Student(Person):\n",
    "    def __init__(self, name, age, average_grade):\n",
    "        super().__init__(name, age)\n",
    "        self.average_grade = average_grade\n",
    "        print(\"Student \" + self.name +  \" created\")\n",
    "    \n",
    "    def study(self):\n",
    "        print(self.name + \" studies\")\n",
    "        \n",
    "    def say_hello(self):\n",
    "        print(\"Student with name \" + self.name + \" says hello!\")\n",
    "\n",
    "class Teacher(Person):\n",
    "    def teach(self):\n",
    "        print(self.name + \" teaches\")\n",
    "\n",
    "s1 = Student(\"Tomchik\", 24, 4.5)\n",
    "t1 = Teacher(\"Rock\", 28)\n",
    "s1.say_hello()\n",
    "t1.say_hello()"
   ]
  },
  {
   "cell_type": "code",
   "execution_count": 6,
   "metadata": {},
   "outputs": [
    {
     "name": "stdout",
     "output_type": "stream",
     "text": [
      "2016 4 20\n",
      "14\n",
      "2016 5 4\n",
      "14 days, 0:00:00\n"
     ]
    }
   ],
   "source": [
    "import datetime\n",
    "a = input().split()\n",
    "y, m, d = int(a[0]), int(a[1]), int(a[2])\n",
    "days = int(input())\n",
    "d1 = datetime.date(y, m, d)\n",
    "delta = datetime.timedelta(days)\n",
    "result = d1 + delta\n",
    "print(result.year, result.month, result.day)"
   ]
  },
  {
   "cell_type": "code",
   "execution_count": 9,
   "metadata": {},
   "outputs": [
    {
     "ename": "DecryptionException",
     "evalue": "Bad password or corrupt / modified data.",
     "output_type": "error",
     "traceback": [
      "\u001b[1;31m---------------------------------------------------------------------------\u001b[0m",
      "\u001b[1;31mDecryptionException\u001b[0m                       Traceback (most recent call last)",
      "\u001b[1;32m<ipython-input-9-f640a869ca2a>\u001b[0m in \u001b[0;36m<module>\u001b[1;34m\u001b[0m\n\u001b[0;32m      5\u001b[0m     \u001b[0mpasswords\u001b[0m \u001b[1;33m=\u001b[0m \u001b[0mp\u001b[0m\u001b[1;33m.\u001b[0m\u001b[0mread\u001b[0m\u001b[1;33m(\u001b[0m\u001b[1;33m)\u001b[0m\u001b[1;33m\u001b[0m\u001b[1;33m\u001b[0m\u001b[0m\n\u001b[0;32m      6\u001b[0m \u001b[1;33m\u001b[0m\u001b[0m\n\u001b[1;32m----> 7\u001b[1;33m \u001b[0ms\u001b[0m \u001b[1;33m=\u001b[0m \u001b[0msimplecrypt\u001b[0m\u001b[1;33m.\u001b[0m\u001b[0mdecrypt\u001b[0m\u001b[1;33m(\u001b[0m\u001b[0mpasswords\u001b[0m\u001b[1;33m,\u001b[0m \u001b[0mencrypted\u001b[0m\u001b[1;33m)\u001b[0m\u001b[1;33m.\u001b[0m\u001b[0mdecode\u001b[0m\u001b[1;33m(\u001b[0m\u001b[1;34m'utf8'\u001b[0m\u001b[1;33m)\u001b[0m\u001b[1;33m\u001b[0m\u001b[1;33m\u001b[0m\u001b[0m\n\u001b[0m\u001b[0;32m      8\u001b[0m \u001b[0mprint\u001b[0m\u001b[1;33m(\u001b[0m\u001b[0ms\u001b[0m\u001b[1;33m)\u001b[0m\u001b[1;33m\u001b[0m\u001b[1;33m\u001b[0m\u001b[0m\n",
      "\u001b[1;32mc:\\users\\user\\appdata\\local\\programs\\python\\python37-32\\lib\\site-packages\\simplecrypt\\__init__.py\u001b[0m in \u001b[0;36mdecrypt\u001b[1;34m(password, data)\u001b[0m\n\u001b[0;32m     70\u001b[0m     \u001b[0mhmac\u001b[0m \u001b[1;33m=\u001b[0m \u001b[0mraw\u001b[0m\u001b[1;33m[\u001b[0m\u001b[1;33m-\u001b[0m\u001b[0mHASH\u001b[0m\u001b[1;33m.\u001b[0m\u001b[0mdigest_size\u001b[0m\u001b[1;33m:\u001b[0m\u001b[1;33m]\u001b[0m\u001b[1;33m\u001b[0m\u001b[1;33m\u001b[0m\u001b[0m\n\u001b[0;32m     71\u001b[0m     \u001b[0mhmac2\u001b[0m \u001b[1;33m=\u001b[0m \u001b[0m_hmac\u001b[0m\u001b[1;33m(\u001b[0m\u001b[0mhmac_key\u001b[0m\u001b[1;33m,\u001b[0m \u001b[0mdata\u001b[0m\u001b[1;33m[\u001b[0m\u001b[1;33m:\u001b[0m\u001b[1;33m-\u001b[0m\u001b[0mHASH\u001b[0m\u001b[1;33m.\u001b[0m\u001b[0mdigest_size\u001b[0m\u001b[1;33m]\u001b[0m\u001b[1;33m)\u001b[0m\u001b[1;33m\u001b[0m\u001b[1;33m\u001b[0m\u001b[0m\n\u001b[1;32m---> 72\u001b[1;33m     \u001b[0m_assert_hmac\u001b[0m\u001b[1;33m(\u001b[0m\u001b[0mhmac_key\u001b[0m\u001b[1;33m,\u001b[0m \u001b[0mhmac\u001b[0m\u001b[1;33m,\u001b[0m \u001b[0mhmac2\u001b[0m\u001b[1;33m)\u001b[0m\u001b[1;33m\u001b[0m\u001b[1;33m\u001b[0m\u001b[0m\n\u001b[0m\u001b[0;32m     73\u001b[0m     \u001b[0mcounter\u001b[0m \u001b[1;33m=\u001b[0m \u001b[0mCounter\u001b[0m\u001b[1;33m.\u001b[0m\u001b[0mnew\u001b[0m\u001b[1;33m(\u001b[0m\u001b[0mHALF_BLOCK\u001b[0m\u001b[1;33m,\u001b[0m \u001b[0mprefix\u001b[0m\u001b[1;33m=\u001b[0m\u001b[0msalt\u001b[0m\u001b[1;33m[\u001b[0m\u001b[1;33m:\u001b[0m\u001b[0mHALF_BLOCK\u001b[0m\u001b[1;33m//\u001b[0m\u001b[1;36m8\u001b[0m\u001b[1;33m]\u001b[0m\u001b[1;33m)\u001b[0m\u001b[1;33m\u001b[0m\u001b[1;33m\u001b[0m\u001b[0m\n\u001b[0;32m     74\u001b[0m     \u001b[0mcipher\u001b[0m \u001b[1;33m=\u001b[0m \u001b[0mAES\u001b[0m\u001b[1;33m.\u001b[0m\u001b[0mnew\u001b[0m\u001b[1;33m(\u001b[0m\u001b[0mcipher_key\u001b[0m\u001b[1;33m,\u001b[0m \u001b[0mAES\u001b[0m\u001b[1;33m.\u001b[0m\u001b[0mMODE_CTR\u001b[0m\u001b[1;33m,\u001b[0m \u001b[0mcounter\u001b[0m\u001b[1;33m=\u001b[0m\u001b[0mcounter\u001b[0m\u001b[1;33m)\u001b[0m\u001b[1;33m\u001b[0m\u001b[1;33m\u001b[0m\u001b[0m\n",
      "\u001b[1;32mc:\\users\\user\\appdata\\local\\programs\\python\\python37-32\\lib\\site-packages\\simplecrypt\\__init__.py\u001b[0m in \u001b[0;36m_assert_hmac\u001b[1;34m(key, hmac, hmac2)\u001b[0m\n\u001b[0;32m    114\u001b[0m     \u001b[1;31m# https://www.isecpartners.com/news-events/news/2011/february/double-hmac-verification.aspx\u001b[0m\u001b[1;33m\u001b[0m\u001b[1;33m\u001b[0m\u001b[1;33m\u001b[0m\u001b[0m\n\u001b[0;32m    115\u001b[0m     \u001b[1;32mif\u001b[0m \u001b[0m_hmac\u001b[0m\u001b[1;33m(\u001b[0m\u001b[0mkey\u001b[0m\u001b[1;33m,\u001b[0m \u001b[0mhmac\u001b[0m\u001b[1;33m)\u001b[0m \u001b[1;33m!=\u001b[0m \u001b[0m_hmac\u001b[0m\u001b[1;33m(\u001b[0m\u001b[0mkey\u001b[0m\u001b[1;33m,\u001b[0m \u001b[0mhmac2\u001b[0m\u001b[1;33m)\u001b[0m\u001b[1;33m:\u001b[0m\u001b[1;33m\u001b[0m\u001b[1;33m\u001b[0m\u001b[0m\n\u001b[1;32m--> 116\u001b[1;33m         \u001b[1;32mraise\u001b[0m \u001b[0mDecryptionException\u001b[0m\u001b[1;33m(\u001b[0m\u001b[1;34m'Bad password or corrupt / modified data.'\u001b[0m\u001b[1;33m)\u001b[0m\u001b[1;33m\u001b[0m\u001b[1;33m\u001b[0m\u001b[0m\n\u001b[0m\u001b[0;32m    117\u001b[0m \u001b[1;33m\u001b[0m\u001b[0m\n\u001b[0;32m    118\u001b[0m \u001b[1;32mdef\u001b[0m \u001b[0m_pbkdf2\u001b[0m\u001b[1;33m(\u001b[0m\u001b[0mpassword\u001b[0m\u001b[1;33m,\u001b[0m \u001b[0msalt\u001b[0m\u001b[1;33m,\u001b[0m \u001b[0mn_bytes\u001b[0m\u001b[1;33m,\u001b[0m \u001b[0mcount\u001b[0m\u001b[1;33m)\u001b[0m\u001b[1;33m:\u001b[0m\u001b[1;33m\u001b[0m\u001b[1;33m\u001b[0m\u001b[0m\n",
      "\u001b[1;31mDecryptionException\u001b[0m: Bad password or corrupt / modified data."
     ]
    }
   ],
   "source": [
    "import simplecrypt\n",
    "with open(\"encrypted.bin\", \"rb\") as inp:\n",
    "    encrypted = inp.read()\n",
    "with open(\"passwords.txt\", \"rb\") as p:\n",
    "    passwords = p.read()\n",
    "\n",
    "\n",
    "s = simplecrypt.decrypt(passwords, encrypted).decode('utf8')\n"
   ]
  },
  {
   "cell_type": "code",
   "execution_count": null,
   "metadata": {},
   "outputs": [],
   "source": []
  }
 ],
 "metadata": {
  "kernelspec": {
   "display_name": "Python 3",
   "language": "python",
   "name": "python3"
  },
  "language_info": {
   "codemirror_mode": {
    "name": "ipython",
    "version": 3
   },
   "file_extension": ".py",
   "mimetype": "text/x-python",
   "name": "python",
   "nbconvert_exporter": "python",
   "pygments_lexer": "ipython3",
   "version": "3.7.4"
  }
 },
 "nbformat": 4,
 "nbformat_minor": 4
}
